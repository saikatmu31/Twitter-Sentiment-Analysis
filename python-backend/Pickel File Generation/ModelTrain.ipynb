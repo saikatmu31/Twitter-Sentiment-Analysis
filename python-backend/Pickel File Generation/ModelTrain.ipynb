{
 "cells": [
  {
   "cell_type": "code",
   "execution_count": 1,
   "metadata": {
    "id": "25uEVBuhOouY"
   },
   "outputs": [],
   "source": [
    "import numpy as np\n",
    "import pandas as pd\n",
    "import matplotlib.pyplot as plt\n",
    "import seaborn as sns\n",
    "\n",
    "from warnings import simplefilter\n",
    "# ignore all future warnings\n",
    "simplefilter(action='ignore', category=FutureWarning)"
   ]
  },
  {
   "cell_type": "code",
   "execution_count": 2,
   "metadata": {
    "colab": {
     "base_uri": "https://localhost:8080/",
     "height": 36
    },
    "executionInfo": {
     "elapsed": 12,
     "status": "ok",
     "timestamp": 1677383756243,
     "user": {
      "displayName": "Abir Pal",
      "userId": "16652490121189377615"
     },
     "user_tz": -330
    },
    "id": "DfmKP6uFPMir",
    "outputId": "61deeb32-928f-40f5-9803-1d4cd78b1734"
   },
   "outputs": [
    {
     "data": {
      "text/plain": [
       "'D:\\\\Machine Learning\\\\Twitter Sentiment Analysis\\\\python-backend\\\\Pickel File Generation'"
      ]
     },
     "execution_count": 2,
     "metadata": {},
     "output_type": "execute_result"
    }
   ],
   "source": [
    "%pwd"
   ]
  },
  {
   "cell_type": "markdown",
   "metadata": {
    "id": "BS4HZlUBJ1pX"
   },
   "source": [
    "# Reading the CSV File"
   ]
  },
  {
   "cell_type": "code",
   "execution_count": 3,
   "metadata": {
    "colab": {
     "base_uri": "https://localhost:8080/",
     "height": 337
    },
    "executionInfo": {
     "elapsed": 892,
     "status": "ok",
     "timestamp": 1677383757126,
     "user": {
      "displayName": "Abir Pal",
      "userId": "16652490121189377615"
     },
     "user_tz": -330
    },
    "id": "J_ca8P14P9ZA",
    "outputId": "b66e9be9-8210-4729-d3aa-4c2eda4f57ac"
   },
   "outputs": [
    {
     "data": {
      "text/html": [
       "<div>\n",
       "<style scoped>\n",
       "    .dataframe tbody tr th:only-of-type {\n",
       "        vertical-align: middle;\n",
       "    }\n",
       "\n",
       "    .dataframe tbody tr th {\n",
       "        vertical-align: top;\n",
       "    }\n",
       "\n",
       "    .dataframe thead th {\n",
       "        text-align: right;\n",
       "    }\n",
       "</style>\n",
       "<table border=\"1\" class=\"dataframe\">\n",
       "  <thead>\n",
       "    <tr style=\"text-align: right;\">\n",
       "      <th></th>\n",
       "      <th>vader_neg</th>\n",
       "      <th>vader_neu</th>\n",
       "      <th>vader_pos</th>\n",
       "      <th>vader_compound</th>\n",
       "      <th>roberta_neg</th>\n",
       "      <th>roberta_neu</th>\n",
       "      <th>roberta_pos</th>\n",
       "      <th>Lang</th>\n",
       "      <th>Tweet</th>\n",
       "      <th>Tag</th>\n",
       "      <th>Score</th>\n",
       "    </tr>\n",
       "  </thead>\n",
       "  <tbody>\n",
       "    <tr>\n",
       "      <th>0</th>\n",
       "      <td>0.0</td>\n",
       "      <td>1.000</td>\n",
       "      <td>0.000</td>\n",
       "      <td>0.0000</td>\n",
       "      <td>0.014746</td>\n",
       "      <td>0.928273</td>\n",
       "      <td>0.056980</td>\n",
       "      <td>en</td>\n",
       "      <td>Tripura Chief Minister Manik Saha inspected th...</td>\n",
       "      <td>POSITIVE</td>\n",
       "      <td>0.564948</td>\n",
       "    </tr>\n",
       "    <tr>\n",
       "      <th>1</th>\n",
       "      <td>0.0</td>\n",
       "      <td>0.846</td>\n",
       "      <td>0.154</td>\n",
       "      <td>0.7906</td>\n",
       "      <td>0.003203</td>\n",
       "      <td>0.125370</td>\n",
       "      <td>0.871427</td>\n",
       "      <td>en</td>\n",
       "      <td>I'd like to appreciate Ambassador Katherine Ta...</td>\n",
       "      <td>POSITIVE</td>\n",
       "      <td>0.999794</td>\n",
       "    </tr>\n",
       "    <tr>\n",
       "      <th>2</th>\n",
       "      <td>0.0</td>\n",
       "      <td>0.947</td>\n",
       "      <td>0.053</td>\n",
       "      <td>0.3384</td>\n",
       "      <td>0.001249</td>\n",
       "      <td>0.041221</td>\n",
       "      <td>0.957530</td>\n",
       "      <td>en</td>\n",
       "      <td>The ground rules of IPEF were laid out very we...</td>\n",
       "      <td>POSITIVE</td>\n",
       "      <td>0.999485</td>\n",
       "    </tr>\n",
       "    <tr>\n",
       "      <th>3</th>\n",
       "      <td>0.0</td>\n",
       "      <td>0.940</td>\n",
       "      <td>0.060</td>\n",
       "      <td>0.4215</td>\n",
       "      <td>0.005952</td>\n",
       "      <td>0.873916</td>\n",
       "      <td>0.120132</td>\n",
       "      <td>en</td>\n",
       "      <td>We also discussed progress of Indo-Pacific Eco...</td>\n",
       "      <td>POSITIVE</td>\n",
       "      <td>0.956361</td>\n",
       "    </tr>\n",
       "    <tr>\n",
       "      <th>4</th>\n",
       "      <td>0.0</td>\n",
       "      <td>0.807</td>\n",
       "      <td>0.193</td>\n",
       "      <td>0.8519</td>\n",
       "      <td>0.002116</td>\n",
       "      <td>0.054837</td>\n",
       "      <td>0.943047</td>\n",
       "      <td>en</td>\n",
       "      <td>I am delighted to share that we have made the ...</td>\n",
       "      <td>POSITIVE</td>\n",
       "      <td>0.999675</td>\n",
       "    </tr>\n",
       "  </tbody>\n",
       "</table>\n",
       "</div>"
      ],
      "text/plain": [
       "   vader_neg  vader_neu  vader_pos  vader_compound  roberta_neg  roberta_neu   \n",
       "0        0.0      1.000      0.000          0.0000     0.014746     0.928273  \\\n",
       "1        0.0      0.846      0.154          0.7906     0.003203     0.125370   \n",
       "2        0.0      0.947      0.053          0.3384     0.001249     0.041221   \n",
       "3        0.0      0.940      0.060          0.4215     0.005952     0.873916   \n",
       "4        0.0      0.807      0.193          0.8519     0.002116     0.054837   \n",
       "\n",
       "   roberta_pos Lang                                              Tweet   \n",
       "0     0.056980   en  Tripura Chief Minister Manik Saha inspected th...  \\\n",
       "1     0.871427   en  I'd like to appreciate Ambassador Katherine Ta...   \n",
       "2     0.957530   en  The ground rules of IPEF were laid out very we...   \n",
       "3     0.120132   en  We also discussed progress of Indo-Pacific Eco...   \n",
       "4     0.943047   en  I am delighted to share that we have made the ...   \n",
       "\n",
       "        Tag     Score  \n",
       "0  POSITIVE  0.564948  \n",
       "1  POSITIVE  0.999794  \n",
       "2  POSITIVE  0.999485  \n",
       "3  POSITIVE  0.956361  \n",
       "4  POSITIVE  0.999675  "
      ]
     },
     "execution_count": 3,
     "metadata": {},
     "output_type": "execute_result"
    }
   ],
   "source": [
    "df = pd.read_csv(\"TwitterData.csv\")\n",
    "df.dropna()\n",
    "df.head()"
   ]
  },
  {
   "cell_type": "code",
   "execution_count": 4,
   "metadata": {
    "colab": {
     "base_uri": "https://localhost:8080/",
     "height": 337
    },
    "executionInfo": {
     "elapsed": 50,
     "status": "ok",
     "timestamp": 1677383757126,
     "user": {
      "displayName": "Abir Pal",
      "userId": "16652490121189377615"
     },
     "user_tz": -330
    },
    "id": "_LABF3HtmMWa",
    "outputId": "ba775cbe-c9d3-448a-b406-e1c4d5d7b69d"
   },
   "outputs": [
    {
     "data": {
      "text/html": [
       "<div>\n",
       "<style scoped>\n",
       "    .dataframe tbody tr th:only-of-type {\n",
       "        vertical-align: middle;\n",
       "    }\n",
       "\n",
       "    .dataframe tbody tr th {\n",
       "        vertical-align: top;\n",
       "    }\n",
       "\n",
       "    .dataframe thead th {\n",
       "        text-align: right;\n",
       "    }\n",
       "</style>\n",
       "<table border=\"1\" class=\"dataframe\">\n",
       "  <thead>\n",
       "    <tr style=\"text-align: right;\">\n",
       "      <th></th>\n",
       "      <th>vader_neg</th>\n",
       "      <th>vader_neu</th>\n",
       "      <th>vader_pos</th>\n",
       "      <th>vader_compound</th>\n",
       "      <th>roberta_neg</th>\n",
       "      <th>roberta_neu</th>\n",
       "      <th>roberta_pos</th>\n",
       "      <th>Lang</th>\n",
       "      <th>Tweet</th>\n",
       "      <th>Tag</th>\n",
       "      <th>Score</th>\n",
       "      <th>Label</th>\n",
       "    </tr>\n",
       "  </thead>\n",
       "  <tbody>\n",
       "    <tr>\n",
       "      <th>0</th>\n",
       "      <td>0.0</td>\n",
       "      <td>1.000</td>\n",
       "      <td>0.000</td>\n",
       "      <td>0.0000</td>\n",
       "      <td>0.014746</td>\n",
       "      <td>0.928273</td>\n",
       "      <td>0.056980</td>\n",
       "      <td>en</td>\n",
       "      <td>Tripura Chief Minister Manik Saha inspected th...</td>\n",
       "      <td>POSITIVE</td>\n",
       "      <td>0.564948</td>\n",
       "      <td>1</td>\n",
       "    </tr>\n",
       "    <tr>\n",
       "      <th>1</th>\n",
       "      <td>0.0</td>\n",
       "      <td>0.846</td>\n",
       "      <td>0.154</td>\n",
       "      <td>0.7906</td>\n",
       "      <td>0.003203</td>\n",
       "      <td>0.125370</td>\n",
       "      <td>0.871427</td>\n",
       "      <td>en</td>\n",
       "      <td>I'd like to appreciate Ambassador Katherine Ta...</td>\n",
       "      <td>POSITIVE</td>\n",
       "      <td>0.999794</td>\n",
       "      <td>1</td>\n",
       "    </tr>\n",
       "    <tr>\n",
       "      <th>2</th>\n",
       "      <td>0.0</td>\n",
       "      <td>0.947</td>\n",
       "      <td>0.053</td>\n",
       "      <td>0.3384</td>\n",
       "      <td>0.001249</td>\n",
       "      <td>0.041221</td>\n",
       "      <td>0.957530</td>\n",
       "      <td>en</td>\n",
       "      <td>The ground rules of IPEF were laid out very we...</td>\n",
       "      <td>POSITIVE</td>\n",
       "      <td>0.999485</td>\n",
       "      <td>1</td>\n",
       "    </tr>\n",
       "    <tr>\n",
       "      <th>3</th>\n",
       "      <td>0.0</td>\n",
       "      <td>0.940</td>\n",
       "      <td>0.060</td>\n",
       "      <td>0.4215</td>\n",
       "      <td>0.005952</td>\n",
       "      <td>0.873916</td>\n",
       "      <td>0.120132</td>\n",
       "      <td>en</td>\n",
       "      <td>We also discussed progress of Indo-Pacific Eco...</td>\n",
       "      <td>POSITIVE</td>\n",
       "      <td>0.956361</td>\n",
       "      <td>1</td>\n",
       "    </tr>\n",
       "    <tr>\n",
       "      <th>4</th>\n",
       "      <td>0.0</td>\n",
       "      <td>0.807</td>\n",
       "      <td>0.193</td>\n",
       "      <td>0.8519</td>\n",
       "      <td>0.002116</td>\n",
       "      <td>0.054837</td>\n",
       "      <td>0.943047</td>\n",
       "      <td>en</td>\n",
       "      <td>I am delighted to share that we have made the ...</td>\n",
       "      <td>POSITIVE</td>\n",
       "      <td>0.999675</td>\n",
       "      <td>1</td>\n",
       "    </tr>\n",
       "  </tbody>\n",
       "</table>\n",
       "</div>"
      ],
      "text/plain": [
       "   vader_neg  vader_neu  vader_pos  vader_compound  roberta_neg  roberta_neu   \n",
       "0        0.0      1.000      0.000          0.0000     0.014746     0.928273  \\\n",
       "1        0.0      0.846      0.154          0.7906     0.003203     0.125370   \n",
       "2        0.0      0.947      0.053          0.3384     0.001249     0.041221   \n",
       "3        0.0      0.940      0.060          0.4215     0.005952     0.873916   \n",
       "4        0.0      0.807      0.193          0.8519     0.002116     0.054837   \n",
       "\n",
       "   roberta_pos Lang                                              Tweet   \n",
       "0     0.056980   en  Tripura Chief Minister Manik Saha inspected th...  \\\n",
       "1     0.871427   en  I'd like to appreciate Ambassador Katherine Ta...   \n",
       "2     0.957530   en  The ground rules of IPEF were laid out very we...   \n",
       "3     0.120132   en  We also discussed progress of Indo-Pacific Eco...   \n",
       "4     0.943047   en  I am delighted to share that we have made the ...   \n",
       "\n",
       "        Tag     Score  Label  \n",
       "0  POSITIVE  0.564948      1  \n",
       "1  POSITIVE  0.999794      1  \n",
       "2  POSITIVE  0.999485      1  \n",
       "3  POSITIVE  0.956361      1  \n",
       "4  POSITIVE  0.999675      1  "
      ]
     },
     "execution_count": 4,
     "metadata": {},
     "output_type": "execute_result"
    }
   ],
   "source": [
    "# To suffel the dataset\n",
    "df.sample(frac=1)\n",
    "\n",
    "# Reseting the Index\n",
    "df.reset_index(drop=True, inplace=True)\n",
    "\n",
    "# Change the Tag to numeric values\n",
    "from sklearn.preprocessing import LabelEncoder\n",
    "le = LabelEncoder()\n",
    "df['Label'] = le.fit_transform(df['Tag'])\n",
    "\n",
    "df.head()"
   ]
  },
  {
   "cell_type": "code",
   "execution_count": 5,
   "metadata": {
    "colab": {
     "base_uri": "https://localhost:8080/"
    },
    "executionInfo": {
     "elapsed": 49,
     "status": "ok",
     "timestamp": 1677383757127,
     "user": {
      "displayName": "Abir Pal",
      "userId": "16652490121189377615"
     },
     "user_tz": -330
    },
    "id": "pEQTAsYIf7p1",
    "outputId": "06c23e75-a93a-4c48-e3c6-df4f418b4068"
   },
   "outputs": [
    {
     "data": {
      "text/plain": [
       "(65847, 9)"
      ]
     },
     "execution_count": 5,
     "metadata": {},
     "output_type": "execute_result"
    }
   ],
   "source": [
    "df = df.drop(['Lang', 'Tweet', 'Tag'], axis='columns')\n",
    "df.shape"
   ]
  },
  {
   "cell_type": "code",
   "execution_count": 6,
   "metadata": {
    "colab": {
     "base_uri": "https://localhost:8080/",
     "height": 300
    },
    "executionInfo": {
     "elapsed": 43,
     "status": "ok",
     "timestamp": 1677383757127,
     "user": {
      "displayName": "Abir Pal",
      "userId": "16652490121189377615"
     },
     "user_tz": -330
    },
    "id": "3KVTd6gnQJyr",
    "outputId": "7f50df57-41b7-458a-eae6-b87ab1ed1d8f"
   },
   "outputs": [
    {
     "data": {
      "text/html": [
       "<div>\n",
       "<style scoped>\n",
       "    .dataframe tbody tr th:only-of-type {\n",
       "        vertical-align: middle;\n",
       "    }\n",
       "\n",
       "    .dataframe tbody tr th {\n",
       "        vertical-align: top;\n",
       "    }\n",
       "\n",
       "    .dataframe thead th {\n",
       "        text-align: right;\n",
       "    }\n",
       "</style>\n",
       "<table border=\"1\" class=\"dataframe\">\n",
       "  <thead>\n",
       "    <tr style=\"text-align: right;\">\n",
       "      <th></th>\n",
       "      <th>vader_neg</th>\n",
       "      <th>vader_neu</th>\n",
       "      <th>vader_pos</th>\n",
       "      <th>vader_compound</th>\n",
       "      <th>roberta_neg</th>\n",
       "      <th>roberta_neu</th>\n",
       "      <th>roberta_pos</th>\n",
       "      <th>Score</th>\n",
       "      <th>Label</th>\n",
       "    </tr>\n",
       "  </thead>\n",
       "  <tbody>\n",
       "    <tr>\n",
       "      <th>count</th>\n",
       "      <td>65847.000000</td>\n",
       "      <td>65847.000000</td>\n",
       "      <td>65847.000000</td>\n",
       "      <td>65847.000000</td>\n",
       "      <td>65847.000000</td>\n",
       "      <td>65847.000000</td>\n",
       "      <td>65847.000000</td>\n",
       "      <td>65847.000000</td>\n",
       "      <td>65847.000000</td>\n",
       "    </tr>\n",
       "    <tr>\n",
       "      <th>mean</th>\n",
       "      <td>0.084667</td>\n",
       "      <td>0.848391</td>\n",
       "      <td>0.066941</td>\n",
       "      <td>-0.036248</td>\n",
       "      <td>0.278212</td>\n",
       "      <td>0.578739</td>\n",
       "      <td>0.143048</td>\n",
       "      <td>0.944641</td>\n",
       "      <td>0.363175</td>\n",
       "    </tr>\n",
       "    <tr>\n",
       "      <th>std</th>\n",
       "      <td>0.115770</td>\n",
       "      <td>0.130022</td>\n",
       "      <td>0.088870</td>\n",
       "      <td>0.501193</td>\n",
       "      <td>0.280132</td>\n",
       "      <td>0.263320</td>\n",
       "      <td>0.238719</td>\n",
       "      <td>0.099335</td>\n",
       "      <td>0.480918</td>\n",
       "    </tr>\n",
       "    <tr>\n",
       "      <th>min</th>\n",
       "      <td>0.000000</td>\n",
       "      <td>0.000000</td>\n",
       "      <td>0.000000</td>\n",
       "      <td>-0.989100</td>\n",
       "      <td>0.000601</td>\n",
       "      <td>0.006210</td>\n",
       "      <td>0.001597</td>\n",
       "      <td>0.500030</td>\n",
       "      <td>0.000000</td>\n",
       "    </tr>\n",
       "    <tr>\n",
       "      <th>25%</th>\n",
       "      <td>0.000000</td>\n",
       "      <td>0.769000</td>\n",
       "      <td>0.000000</td>\n",
       "      <td>-0.458800</td>\n",
       "      <td>0.022766</td>\n",
       "      <td>0.365045</td>\n",
       "      <td>0.015314</td>\n",
       "      <td>0.950874</td>\n",
       "      <td>0.000000</td>\n",
       "    </tr>\n",
       "    <tr>\n",
       "      <th>50%</th>\n",
       "      <td>0.000000</td>\n",
       "      <td>0.863000</td>\n",
       "      <td>0.030000</td>\n",
       "      <td>0.000000</td>\n",
       "      <td>0.178379</td>\n",
       "      <td>0.614623</td>\n",
       "      <td>0.033925</td>\n",
       "      <td>0.986550</td>\n",
       "      <td>0.000000</td>\n",
       "    </tr>\n",
       "    <tr>\n",
       "      <th>75%</th>\n",
       "      <td>0.145000</td>\n",
       "      <td>0.959000</td>\n",
       "      <td>0.113000</td>\n",
       "      <td>0.361200</td>\n",
       "      <td>0.500133</td>\n",
       "      <td>0.812929</td>\n",
       "      <td>0.121036</td>\n",
       "      <td>0.996049</td>\n",
       "      <td>1.000000</td>\n",
       "    </tr>\n",
       "    <tr>\n",
       "      <th>max</th>\n",
       "      <td>0.721000</td>\n",
       "      <td>1.000000</td>\n",
       "      <td>1.000000</td>\n",
       "      <td>0.986800</td>\n",
       "      <td>0.975476</td>\n",
       "      <td>0.970903</td>\n",
       "      <td>0.992736</td>\n",
       "      <td>0.999888</td>\n",
       "      <td>1.000000</td>\n",
       "    </tr>\n",
       "  </tbody>\n",
       "</table>\n",
       "</div>"
      ],
      "text/plain": [
       "          vader_neg     vader_neu     vader_pos  vader_compound   roberta_neg   \n",
       "count  65847.000000  65847.000000  65847.000000    65847.000000  65847.000000  \\\n",
       "mean       0.084667      0.848391      0.066941       -0.036248      0.278212   \n",
       "std        0.115770      0.130022      0.088870        0.501193      0.280132   \n",
       "min        0.000000      0.000000      0.000000       -0.989100      0.000601   \n",
       "25%        0.000000      0.769000      0.000000       -0.458800      0.022766   \n",
       "50%        0.000000      0.863000      0.030000        0.000000      0.178379   \n",
       "75%        0.145000      0.959000      0.113000        0.361200      0.500133   \n",
       "max        0.721000      1.000000      1.000000        0.986800      0.975476   \n",
       "\n",
       "        roberta_neu   roberta_pos         Score         Label  \n",
       "count  65847.000000  65847.000000  65847.000000  65847.000000  \n",
       "mean       0.578739      0.143048      0.944641      0.363175  \n",
       "std        0.263320      0.238719      0.099335      0.480918  \n",
       "min        0.006210      0.001597      0.500030      0.000000  \n",
       "25%        0.365045      0.015314      0.950874      0.000000  \n",
       "50%        0.614623      0.033925      0.986550      0.000000  \n",
       "75%        0.812929      0.121036      0.996049      1.000000  \n",
       "max        0.970903      0.992736      0.999888      1.000000  "
      ]
     },
     "execution_count": 6,
     "metadata": {},
     "output_type": "execute_result"
    }
   ],
   "source": [
    "df.describe()"
   ]
  },
  {
   "cell_type": "code",
   "execution_count": 7,
   "metadata": {
    "colab": {
     "base_uri": "https://localhost:8080/",
     "height": 206
    },
    "executionInfo": {
     "elapsed": 41,
     "status": "ok",
     "timestamp": 1677383757127,
     "user": {
      "displayName": "Abir Pal",
      "userId": "16652490121189377615"
     },
     "user_tz": -330
    },
    "id": "xDwPIqRZSOER",
    "outputId": "4ccbbd90-289f-476f-9a7d-acc6f259feee"
   },
   "outputs": [
    {
     "data": {
      "text/html": [
       "<div>\n",
       "<style scoped>\n",
       "    .dataframe tbody tr th:only-of-type {\n",
       "        vertical-align: middle;\n",
       "    }\n",
       "\n",
       "    .dataframe tbody tr th {\n",
       "        vertical-align: top;\n",
       "    }\n",
       "\n",
       "    .dataframe thead th {\n",
       "        text-align: right;\n",
       "    }\n",
       "</style>\n",
       "<table border=\"1\" class=\"dataframe\">\n",
       "  <thead>\n",
       "    <tr style=\"text-align: right;\">\n",
       "      <th></th>\n",
       "      <th>vader_neg</th>\n",
       "      <th>vader_neu</th>\n",
       "      <th>vader_pos</th>\n",
       "      <th>vader_compound</th>\n",
       "      <th>roberta_neg</th>\n",
       "      <th>roberta_neu</th>\n",
       "      <th>roberta_pos</th>\n",
       "      <th>Score</th>\n",
       "      <th>Label</th>\n",
       "    </tr>\n",
       "  </thead>\n",
       "  <tbody>\n",
       "    <tr>\n",
       "      <th>0</th>\n",
       "      <td>0.0</td>\n",
       "      <td>1.000</td>\n",
       "      <td>0.000</td>\n",
       "      <td>0.0000</td>\n",
       "      <td>0.014746</td>\n",
       "      <td>0.928273</td>\n",
       "      <td>0.056980</td>\n",
       "      <td>0.564948</td>\n",
       "      <td>1</td>\n",
       "    </tr>\n",
       "    <tr>\n",
       "      <th>1</th>\n",
       "      <td>0.0</td>\n",
       "      <td>0.846</td>\n",
       "      <td>0.154</td>\n",
       "      <td>0.7906</td>\n",
       "      <td>0.003203</td>\n",
       "      <td>0.125370</td>\n",
       "      <td>0.871427</td>\n",
       "      <td>0.999794</td>\n",
       "      <td>1</td>\n",
       "    </tr>\n",
       "    <tr>\n",
       "      <th>2</th>\n",
       "      <td>0.0</td>\n",
       "      <td>0.947</td>\n",
       "      <td>0.053</td>\n",
       "      <td>0.3384</td>\n",
       "      <td>0.001249</td>\n",
       "      <td>0.041221</td>\n",
       "      <td>0.957530</td>\n",
       "      <td>0.999485</td>\n",
       "      <td>1</td>\n",
       "    </tr>\n",
       "    <tr>\n",
       "      <th>3</th>\n",
       "      <td>0.0</td>\n",
       "      <td>0.940</td>\n",
       "      <td>0.060</td>\n",
       "      <td>0.4215</td>\n",
       "      <td>0.005952</td>\n",
       "      <td>0.873916</td>\n",
       "      <td>0.120132</td>\n",
       "      <td>0.956361</td>\n",
       "      <td>1</td>\n",
       "    </tr>\n",
       "    <tr>\n",
       "      <th>4</th>\n",
       "      <td>0.0</td>\n",
       "      <td>0.807</td>\n",
       "      <td>0.193</td>\n",
       "      <td>0.8519</td>\n",
       "      <td>0.002116</td>\n",
       "      <td>0.054837</td>\n",
       "      <td>0.943047</td>\n",
       "      <td>0.999675</td>\n",
       "      <td>1</td>\n",
       "    </tr>\n",
       "  </tbody>\n",
       "</table>\n",
       "</div>"
      ],
      "text/plain": [
       "   vader_neg  vader_neu  vader_pos  vader_compound  roberta_neg  roberta_neu   \n",
       "0        0.0      1.000      0.000          0.0000     0.014746     0.928273  \\\n",
       "1        0.0      0.846      0.154          0.7906     0.003203     0.125370   \n",
       "2        0.0      0.947      0.053          0.3384     0.001249     0.041221   \n",
       "3        0.0      0.940      0.060          0.4215     0.005952     0.873916   \n",
       "4        0.0      0.807      0.193          0.8519     0.002116     0.054837   \n",
       "\n",
       "   roberta_pos     Score  Label  \n",
       "0     0.056980  0.564948      1  \n",
       "1     0.871427  0.999794      1  \n",
       "2     0.957530  0.999485      1  \n",
       "3     0.120132  0.956361      1  \n",
       "4     0.943047  0.999675      1  "
      ]
     },
     "execution_count": 7,
     "metadata": {},
     "output_type": "execute_result"
    }
   ],
   "source": [
    "df.head()"
   ]
  },
  {
   "cell_type": "code",
   "execution_count": 8,
   "metadata": {
    "colab": {
     "base_uri": "https://localhost:8080/",
     "height": 331
    },
    "executionInfo": {
     "elapsed": 35,
     "status": "ok",
     "timestamp": 1677383757129,
     "user": {
      "displayName": "Abir Pal",
      "userId": "16652490121189377615"
     },
     "user_tz": -330
    },
    "id": "QENV2yI-STV0",
    "outputId": "1adc8462-101a-4996-cd06-5d7af086d475"
   },
   "outputs": [
    {
     "data": {
      "text/html": [
       "<div>\n",
       "<style scoped>\n",
       "    .dataframe tbody tr th:only-of-type {\n",
       "        vertical-align: middle;\n",
       "    }\n",
       "\n",
       "    .dataframe tbody tr th {\n",
       "        vertical-align: top;\n",
       "    }\n",
       "\n",
       "    .dataframe thead th {\n",
       "        text-align: right;\n",
       "    }\n",
       "</style>\n",
       "<table border=\"1\" class=\"dataframe\">\n",
       "  <thead>\n",
       "    <tr style=\"text-align: right;\">\n",
       "      <th></th>\n",
       "      <th>vader_neg</th>\n",
       "      <th>vader_neu</th>\n",
       "      <th>vader_pos</th>\n",
       "      <th>vader_compound</th>\n",
       "      <th>roberta_neg</th>\n",
       "      <th>roberta_neu</th>\n",
       "      <th>roberta_pos</th>\n",
       "      <th>Score</th>\n",
       "      <th>Label</th>\n",
       "    </tr>\n",
       "  </thead>\n",
       "  <tbody>\n",
       "    <tr>\n",
       "      <th>vader_neg</th>\n",
       "      <td>1.000000</td>\n",
       "      <td>-0.744408</td>\n",
       "      <td>-0.213557</td>\n",
       "      <td>-0.727430</td>\n",
       "      <td>0.601793</td>\n",
       "      <td>-0.367960</td>\n",
       "      <td>-0.300312</td>\n",
       "      <td>0.093489</td>\n",
       "      <td>-0.345809</td>\n",
       "    </tr>\n",
       "    <tr>\n",
       "      <th>vader_neu</th>\n",
       "      <td>-0.744408</td>\n",
       "      <td>1.000000</td>\n",
       "      <td>-0.493345</td>\n",
       "      <td>0.196634</td>\n",
       "      <td>-0.349652</td>\n",
       "      <td>0.422585</td>\n",
       "      <td>-0.055825</td>\n",
       "      <td>-0.096204</td>\n",
       "      <td>0.109116</td>\n",
       "    </tr>\n",
       "    <tr>\n",
       "      <th>vader_pos</th>\n",
       "      <td>-0.213557</td>\n",
       "      <td>-0.493345</td>\n",
       "      <td>1.000000</td>\n",
       "      <td>0.659923</td>\n",
       "      <td>-0.272368</td>\n",
       "      <td>-0.138939</td>\n",
       "      <td>0.472877</td>\n",
       "      <td>0.018959</td>\n",
       "      <td>0.290810</td>\n",
       "    </tr>\n",
       "    <tr>\n",
       "      <th>vader_compound</th>\n",
       "      <td>-0.727430</td>\n",
       "      <td>0.196634</td>\n",
       "      <td>0.659923</td>\n",
       "      <td>1.000000</td>\n",
       "      <td>-0.592405</td>\n",
       "      <td>0.147454</td>\n",
       "      <td>0.532527</td>\n",
       "      <td>-0.045245</td>\n",
       "      <td>0.438538</td>\n",
       "    </tr>\n",
       "    <tr>\n",
       "      <th>roberta_neg</th>\n",
       "      <td>0.601793</td>\n",
       "      <td>-0.349652</td>\n",
       "      <td>-0.272368</td>\n",
       "      <td>-0.592405</td>\n",
       "      <td>1.000000</td>\n",
       "      <td>-0.615642</td>\n",
       "      <td>-0.494394</td>\n",
       "      <td>0.180142</td>\n",
       "      <td>-0.554596</td>\n",
       "    </tr>\n",
       "    <tr>\n",
       "      <th>roberta_neu</th>\n",
       "      <td>-0.367960</td>\n",
       "      <td>0.422585</td>\n",
       "      <td>-0.138939</td>\n",
       "      <td>0.147454</td>\n",
       "      <td>-0.615642</td>\n",
       "      <td>1.000000</td>\n",
       "      <td>-0.380612</td>\n",
       "      <td>-0.272934</td>\n",
       "      <td>0.113208</td>\n",
       "    </tr>\n",
       "    <tr>\n",
       "      <th>roberta_pos</th>\n",
       "      <td>-0.300312</td>\n",
       "      <td>-0.055825</td>\n",
       "      <td>0.472877</td>\n",
       "      <td>0.532527</td>\n",
       "      <td>-0.494394</td>\n",
       "      <td>-0.380612</td>\n",
       "      <td>1.000000</td>\n",
       "      <td>0.089669</td>\n",
       "      <td>0.525934</td>\n",
       "    </tr>\n",
       "    <tr>\n",
       "      <th>Score</th>\n",
       "      <td>0.093489</td>\n",
       "      <td>-0.096204</td>\n",
       "      <td>0.018959</td>\n",
       "      <td>-0.045245</td>\n",
       "      <td>0.180142</td>\n",
       "      <td>-0.272934</td>\n",
       "      <td>0.089669</td>\n",
       "      <td>1.000000</td>\n",
       "      <td>-0.062300</td>\n",
       "    </tr>\n",
       "    <tr>\n",
       "      <th>Label</th>\n",
       "      <td>-0.345809</td>\n",
       "      <td>0.109116</td>\n",
       "      <td>0.290810</td>\n",
       "      <td>0.438538</td>\n",
       "      <td>-0.554596</td>\n",
       "      <td>0.113208</td>\n",
       "      <td>0.525934</td>\n",
       "      <td>-0.062300</td>\n",
       "      <td>1.000000</td>\n",
       "    </tr>\n",
       "  </tbody>\n",
       "</table>\n",
       "</div>"
      ],
      "text/plain": [
       "                vader_neg  vader_neu  vader_pos  vader_compound  roberta_neg   \n",
       "vader_neg        1.000000  -0.744408  -0.213557       -0.727430     0.601793  \\\n",
       "vader_neu       -0.744408   1.000000  -0.493345        0.196634    -0.349652   \n",
       "vader_pos       -0.213557  -0.493345   1.000000        0.659923    -0.272368   \n",
       "vader_compound  -0.727430   0.196634   0.659923        1.000000    -0.592405   \n",
       "roberta_neg      0.601793  -0.349652  -0.272368       -0.592405     1.000000   \n",
       "roberta_neu     -0.367960   0.422585  -0.138939        0.147454    -0.615642   \n",
       "roberta_pos     -0.300312  -0.055825   0.472877        0.532527    -0.494394   \n",
       "Score            0.093489  -0.096204   0.018959       -0.045245     0.180142   \n",
       "Label           -0.345809   0.109116   0.290810        0.438538    -0.554596   \n",
       "\n",
       "                roberta_neu  roberta_pos     Score     Label  \n",
       "vader_neg         -0.367960    -0.300312  0.093489 -0.345809  \n",
       "vader_neu          0.422585    -0.055825 -0.096204  0.109116  \n",
       "vader_pos         -0.138939     0.472877  0.018959  0.290810  \n",
       "vader_compound     0.147454     0.532527 -0.045245  0.438538  \n",
       "roberta_neg       -0.615642    -0.494394  0.180142 -0.554596  \n",
       "roberta_neu        1.000000    -0.380612 -0.272934  0.113208  \n",
       "roberta_pos       -0.380612     1.000000  0.089669  0.525934  \n",
       "Score             -0.272934     0.089669  1.000000 -0.062300  \n",
       "Label              0.113208     0.525934 -0.062300  1.000000  "
      ]
     },
     "execution_count": 8,
     "metadata": {},
     "output_type": "execute_result"
    }
   ],
   "source": [
    "# Finding the corelation between the data\n",
    "df_corr= df.corr()\n",
    "df_corr"
   ]
  },
  {
   "cell_type": "markdown",
   "metadata": {
    "id": "ZiV-BQ9c38gn"
   },
   "source": [
    "### So, from here we can say that `vader_neg`\t`vader_neu`\t`vader_pos`\t`vader_compound`\t`roberta_neg`\t`roberta_neu`\t`roberta_pos` are independent variable and `Score` and `Label` are dependent variable\n",
    "\n",
    "\n",
    "\n"
   ]
  },
  {
   "cell_type": "markdown",
   "metadata": {
    "id": "-A66RMOnKnBc"
   },
   "source": [
    "# Splitting the dataframe into Train And Test Dataframe  "
   ]
  },
  {
   "cell_type": "code",
   "execution_count": 9,
   "metadata": {
    "id": "XpRlCTB1LUji",
    "tags": []
   },
   "outputs": [],
   "source": [
    "X = df.drop(['Label', 'Score'], axis='columns')\n",
    "Y_Regg = df.Score\n",
    "Y_Classify = df.Label"
   ]
  },
  {
   "cell_type": "code",
   "execution_count": 10,
   "metadata": {
    "id": "4ca0o2Y_KmfV"
   },
   "outputs": [],
   "source": [
    "from sklearn.model_selection import train_test_split\n",
    "\n",
    "# For Regression\n",
    "X_train_regg, X_test_regg, y_train_regg, y_test_regg = train_test_split(X, Y_Regg, test_size=0.2)\n",
    "\n",
    "# For Clasification\n",
    "X_train_classify, X_test_classify, y_train_classify, y_test_classify = train_test_split(X, Y_Classify, test_size=0.2)"
   ]
  },
  {
   "cell_type": "code",
   "execution_count": 11,
   "metadata": {
    "colab": {
     "base_uri": "https://localhost:8080/"
    },
    "executionInfo": {
     "elapsed": 40,
     "status": "ok",
     "timestamp": 1677383757128,
     "user": {
      "displayName": "Abir Pal",
      "userId": "16652490121189377615"
     },
     "user_tz": -330
    },
    "id": "a8I6fa8gN2cM",
    "outputId": "53304c44-b0a1-4cef-bd54-cf49d73887f2"
   },
   "outputs": [
    {
     "data": {
      "text/plain": [
       "(52677, 7)"
      ]
     },
     "execution_count": 11,
     "metadata": {},
     "output_type": "execute_result"
    }
   ],
   "source": [
    "X_train_regg.shape"
   ]
  },
  {
   "cell_type": "code",
   "execution_count": 12,
   "metadata": {
    "colab": {
     "base_uri": "https://localhost:8080/"
    },
    "executionInfo": {
     "elapsed": 38,
     "status": "ok",
     "timestamp": 1677383757129,
     "user": {
      "displayName": "Abir Pal",
      "userId": "16652490121189377615"
     },
     "user_tz": -330
    },
    "id": "Zlvek8_2N7pa",
    "outputId": "c9cd32b7-f8ab-4401-a80f-5da7bcc4f4f1"
   },
   "outputs": [
    {
     "data": {
      "text/plain": [
       "(13170, 7)"
      ]
     },
     "execution_count": 12,
     "metadata": {},
     "output_type": "execute_result"
    }
   ],
   "source": [
    "X_test_regg.shape"
   ]
  },
  {
   "cell_type": "markdown",
   "metadata": {
    "id": "ssP9PojWSnn6"
   },
   "source": [
    "# Multiple Linear Regression\n",
    "\n",
    "Multiple linear regression is a statistical technique used to model the relationship between a dependent variable and multiple independent variables. It is an extension of simple linear regression, which models the relationship between a dependent variable and a single independent variable.\n"
   ]
  },
  {
   "cell_type": "code",
   "execution_count": 13,
   "metadata": {
    "id": "cDSlrQxrvdtJ"
   },
   "outputs": [],
   "source": [
    "from sklearn import datasets, linear_model, preprocessing\n",
    "from sklearn.metrics import mean_squared_error, r2_score\n",
    "\n",
    "lrm = linear_model.LinearRegression()"
   ]
  },
  {
   "cell_type": "code",
   "execution_count": 14,
   "metadata": {
    "colab": {
     "base_uri": "https://localhost:8080/"
    },
    "executionInfo": {
     "elapsed": 34,
     "status": "ok",
     "timestamp": 1677383757130,
     "user": {
      "displayName": "Abir Pal",
      "userId": "16652490121189377615"
     },
     "user_tz": -330
    },
    "id": "9b5hMX6M2tCG",
    "outputId": "4c71d52b-3329-4164-f8bf-1c44f620c491"
   },
   "outputs": [
    {
     "data": {
      "text/html": [
       "<style>#sk-container-id-1 {color: black;background-color: white;}#sk-container-id-1 pre{padding: 0;}#sk-container-id-1 div.sk-toggleable {background-color: white;}#sk-container-id-1 label.sk-toggleable__label {cursor: pointer;display: block;width: 100%;margin-bottom: 0;padding: 0.3em;box-sizing: border-box;text-align: center;}#sk-container-id-1 label.sk-toggleable__label-arrow:before {content: \"▸\";float: left;margin-right: 0.25em;color: #696969;}#sk-container-id-1 label.sk-toggleable__label-arrow:hover:before {color: black;}#sk-container-id-1 div.sk-estimator:hover label.sk-toggleable__label-arrow:before {color: black;}#sk-container-id-1 div.sk-toggleable__content {max-height: 0;max-width: 0;overflow: hidden;text-align: left;background-color: #f0f8ff;}#sk-container-id-1 div.sk-toggleable__content pre {margin: 0.2em;color: black;border-radius: 0.25em;background-color: #f0f8ff;}#sk-container-id-1 input.sk-toggleable__control:checked~div.sk-toggleable__content {max-height: 200px;max-width: 100%;overflow: auto;}#sk-container-id-1 input.sk-toggleable__control:checked~label.sk-toggleable__label-arrow:before {content: \"▾\";}#sk-container-id-1 div.sk-estimator input.sk-toggleable__control:checked~label.sk-toggleable__label {background-color: #d4ebff;}#sk-container-id-1 div.sk-label input.sk-toggleable__control:checked~label.sk-toggleable__label {background-color: #d4ebff;}#sk-container-id-1 input.sk-hidden--visually {border: 0;clip: rect(1px 1px 1px 1px);clip: rect(1px, 1px, 1px, 1px);height: 1px;margin: -1px;overflow: hidden;padding: 0;position: absolute;width: 1px;}#sk-container-id-1 div.sk-estimator {font-family: monospace;background-color: #f0f8ff;border: 1px dotted black;border-radius: 0.25em;box-sizing: border-box;margin-bottom: 0.5em;}#sk-container-id-1 div.sk-estimator:hover {background-color: #d4ebff;}#sk-container-id-1 div.sk-parallel-item::after {content: \"\";width: 100%;border-bottom: 1px solid gray;flex-grow: 1;}#sk-container-id-1 div.sk-label:hover label.sk-toggleable__label {background-color: #d4ebff;}#sk-container-id-1 div.sk-serial::before {content: \"\";position: absolute;border-left: 1px solid gray;box-sizing: border-box;top: 0;bottom: 0;left: 50%;z-index: 0;}#sk-container-id-1 div.sk-serial {display: flex;flex-direction: column;align-items: center;background-color: white;padding-right: 0.2em;padding-left: 0.2em;position: relative;}#sk-container-id-1 div.sk-item {position: relative;z-index: 1;}#sk-container-id-1 div.sk-parallel {display: flex;align-items: stretch;justify-content: center;background-color: white;position: relative;}#sk-container-id-1 div.sk-item::before, #sk-container-id-1 div.sk-parallel-item::before {content: \"\";position: absolute;border-left: 1px solid gray;box-sizing: border-box;top: 0;bottom: 0;left: 50%;z-index: -1;}#sk-container-id-1 div.sk-parallel-item {display: flex;flex-direction: column;z-index: 1;position: relative;background-color: white;}#sk-container-id-1 div.sk-parallel-item:first-child::after {align-self: flex-end;width: 50%;}#sk-container-id-1 div.sk-parallel-item:last-child::after {align-self: flex-start;width: 50%;}#sk-container-id-1 div.sk-parallel-item:only-child::after {width: 0;}#sk-container-id-1 div.sk-dashed-wrapped {border: 1px dashed gray;margin: 0 0.4em 0.5em 0.4em;box-sizing: border-box;padding-bottom: 0.4em;background-color: white;}#sk-container-id-1 div.sk-label label {font-family: monospace;font-weight: bold;display: inline-block;line-height: 1.2em;}#sk-container-id-1 div.sk-label-container {text-align: center;}#sk-container-id-1 div.sk-container {/* jupyter's `normalize.less` sets `[hidden] { display: none; }` but bootstrap.min.css set `[hidden] { display: none !important; }` so we also need the `!important` here to be able to override the default hidden behavior on the sphinx rendered scikit-learn.org. See: https://github.com/scikit-learn/scikit-learn/issues/21755 */display: inline-block !important;position: relative;}#sk-container-id-1 div.sk-text-repr-fallback {display: none;}</style><div id=\"sk-container-id-1\" class=\"sk-top-container\"><div class=\"sk-text-repr-fallback\"><pre>LinearRegression()</pre><b>In a Jupyter environment, please rerun this cell to show the HTML representation or trust the notebook. <br />On GitHub, the HTML representation is unable to render, please try loading this page with nbviewer.org.</b></div><div class=\"sk-container\" hidden><div class=\"sk-item\"><div class=\"sk-estimator sk-toggleable\"><input class=\"sk-toggleable__control sk-hidden--visually\" id=\"sk-estimator-id-1\" type=\"checkbox\" checked><label for=\"sk-estimator-id-1\" class=\"sk-toggleable__label sk-toggleable__label-arrow\">LinearRegression</label><div class=\"sk-toggleable__content\"><pre>LinearRegression()</pre></div></div></div></div></div>"
      ],
      "text/plain": [
       "LinearRegression()"
      ]
     },
     "execution_count": 14,
     "metadata": {},
     "output_type": "execute_result"
    }
   ],
   "source": [
    "lrm.fit(X_train_regg, y_train_regg)"
   ]
  },
  {
   "cell_type": "code",
   "execution_count": 15,
   "metadata": {
    "colab": {
     "base_uri": "https://localhost:8080/"
    },
    "executionInfo": {
     "elapsed": 31,
     "status": "ok",
     "timestamp": 1677383757130,
     "user": {
      "displayName": "Abir Pal",
      "userId": "16652490121189377615"
     },
     "user_tz": -330
    },
    "id": "2SsMkmJD3HmE",
    "outputId": "45d3fc0a-4b81-496d-fac1-9fc915a4042d"
   },
   "outputs": [
    {
     "data": {
      "text/plain": [
       "array([0.90951796, 0.98805733, 0.9755704 , ..., 0.99299186, 0.90930826,\n",
       "       0.93395721])"
      ]
     },
     "execution_count": 15,
     "metadata": {},
     "output_type": "execute_result"
    }
   ],
   "source": [
    "lrm_predict = lrm.predict(X_test_regg)\n",
    "lrm_predict"
   ]
  },
  {
   "cell_type": "code",
   "execution_count": 16,
   "metadata": {
    "colab": {
     "base_uri": "https://localhost:8080/"
    },
    "executionInfo": {
     "elapsed": 27,
     "status": "ok",
     "timestamp": 1677383757130,
     "user": {
      "displayName": "Abir Pal",
      "userId": "16652490121189377615"
     },
     "user_tz": -330
    },
    "id": "264J6Jaq3WSq",
    "outputId": "9313b5d4-1621-4fdc-b1a3-698e2341a55e"
   },
   "outputs": [
    {
     "data": {
      "text/plain": [
       "47587    0.943512\n",
       "41929    0.999448\n",
       "4124     0.997075\n",
       "53823    0.982298\n",
       "44175    0.997267\n",
       "           ...   \n",
       "64093    0.880947\n",
       "49651    0.523837\n",
       "13054    0.999824\n",
       "60524    0.978767\n",
       "32718    0.962691\n",
       "Name: Score, Length: 13170, dtype: float64"
      ]
     },
     "execution_count": 16,
     "metadata": {},
     "output_type": "execute_result"
    }
   ],
   "source": [
    "y_test_regg"
   ]
  },
  {
   "cell_type": "code",
   "execution_count": 17,
   "metadata": {
    "colab": {
     "base_uri": "https://localhost:8080/"
    },
    "executionInfo": {
     "elapsed": 25,
     "status": "ok",
     "timestamp": 1677383757131,
     "user": {
      "displayName": "Abir Pal",
      "userId": "16652490121189377615"
     },
     "user_tz": -330
    },
    "id": "jjwN_ssd3bHv",
    "outputId": "3078d3f0-c802-40b6-9af3-9c878024f0f8"
   },
   "outputs": [
    {
     "name": "stdout",
     "output_type": "stream",
     "text": [
      "Mean Squared Error -  0.00921139610866046\n"
     ]
    }
   ],
   "source": [
    "print(\"Mean Squared Error - \", mean_squared_error(y_test_regg , lrm_predict))"
   ]
  },
  {
   "cell_type": "code",
   "execution_count": 18,
   "metadata": {
    "colab": {
     "base_uri": "https://localhost:8080/"
    },
    "executionInfo": {
     "elapsed": 24,
     "status": "ok",
     "timestamp": 1677383757132,
     "user": {
      "displayName": "Abir Pal",
      "userId": "16652490121189377615"
     },
     "user_tz": -330
    },
    "id": "clHa5gmkCuED",
    "outputId": "f9dac549-ff55-4d83-cb2a-cb6baba0f6a5"
   },
   "outputs": [
    {
     "name": "stdout",
     "output_type": "stream",
     "text": [
      "R-squared Value:  0.07259605951487513\n"
     ]
    }
   ],
   "source": [
    "print(\"R-squared Value: \", r2_score(y_test_regg , lrm_predict))"
   ]
  },
  {
   "cell_type": "code",
   "execution_count": 19,
   "metadata": {
    "colab": {
     "base_uri": "https://localhost:8080/"
    },
    "executionInfo": {
     "elapsed": 22,
     "status": "ok",
     "timestamp": 1677383757132,
     "user": {
      "displayName": "Abir Pal",
      "userId": "16652490121189377615"
     },
     "user_tz": -330
    },
    "id": "nn5LlATD3uS6",
    "outputId": "f9cf9838-a174-4d37-f744-1d8aa4fb2b51"
   },
   "outputs": [
    {
     "name": "stdout",
     "output_type": "stream",
     "text": [
      "Coeficient [-1.73390935e+00 -1.71922363e+00 -1.74422792e+00  1.76905167e-03\n",
      " -9.98983011e+02 -9.99093423e+02 -9.98991941e+02]\n",
      "Intercept 1001.7151724314973\n"
     ]
    }
   ],
   "source": [
    "print(\"Coeficient\", lrm.coef_)\n",
    "print(\"Intercept\", lrm.intercept_)"
   ]
  },
  {
   "cell_type": "code",
   "execution_count": 20,
   "metadata": {
    "colab": {
     "base_uri": "https://localhost:8080/"
    },
    "executionInfo": {
     "elapsed": 499,
     "status": "ok",
     "timestamp": 1677384232289,
     "user": {
      "displayName": "Abir Pal",
      "userId": "16652490121189377615"
     },
     "user_tz": -330
    },
    "id": "stAJoXd-48g3",
    "outputId": "813b8784-ab6a-4bbb-f96f-61e03d9f6e5d"
   },
   "outputs": [
    {
     "name": "stderr",
     "output_type": "stream",
     "text": [
      "D:\\Machine Learning\\Twitter Sentiment Analysis\\python-backend\\sentimentanalysis\\Lib\\site-packages\\sklearn\\base.py:439: UserWarning: X does not have valid feature names, but LinearRegression was fitted with feature names\n",
      "  warnings.warn(\n"
     ]
    },
    {
     "data": {
      "text/plain": [
       "array([0.99274989])"
      ]
     },
     "execution_count": 20,
     "metadata": {},
     "output_type": "execute_result"
    }
   ],
   "source": [
    " lrm.predict([[0.756, 0.244, 0.0, -0.4767, 0.91862196, 0.073102295, 0.008275842]])"
   ]
  },
  {
   "cell_type": "markdown",
   "metadata": {
    "id": "w9gQl6JhZbVp"
   },
   "source": [
    "# KNN - K-Nearest Neighbors\n",
    "K-Nearest Neighbors (KNN) is a simple and widely used non-parametric classification and regression algorithm. It is a supervised learning algorithm that can be used for both classification and regression problems."
   ]
  },
  {
   "cell_type": "code",
   "execution_count": 21,
   "metadata": {
    "colab": {
     "base_uri": "https://localhost:8080/"
    },
    "executionInfo": {
     "elapsed": 22,
     "status": "ok",
     "timestamp": 1677383757133,
     "user": {
      "displayName": "Abir Pal",
      "userId": "16652490121189377615"
     },
     "user_tz": -330
    },
    "id": "H-XegOLGZc4K",
    "outputId": "da6de4d6-bfcb-4b50-8b6a-f968e35b12b2"
   },
   "outputs": [
    {
     "data": {
      "text/html": [
       "<style>#sk-container-id-2 {color: black;background-color: white;}#sk-container-id-2 pre{padding: 0;}#sk-container-id-2 div.sk-toggleable {background-color: white;}#sk-container-id-2 label.sk-toggleable__label {cursor: pointer;display: block;width: 100%;margin-bottom: 0;padding: 0.3em;box-sizing: border-box;text-align: center;}#sk-container-id-2 label.sk-toggleable__label-arrow:before {content: \"▸\";float: left;margin-right: 0.25em;color: #696969;}#sk-container-id-2 label.sk-toggleable__label-arrow:hover:before {color: black;}#sk-container-id-2 div.sk-estimator:hover label.sk-toggleable__label-arrow:before {color: black;}#sk-container-id-2 div.sk-toggleable__content {max-height: 0;max-width: 0;overflow: hidden;text-align: left;background-color: #f0f8ff;}#sk-container-id-2 div.sk-toggleable__content pre {margin: 0.2em;color: black;border-radius: 0.25em;background-color: #f0f8ff;}#sk-container-id-2 input.sk-toggleable__control:checked~div.sk-toggleable__content {max-height: 200px;max-width: 100%;overflow: auto;}#sk-container-id-2 input.sk-toggleable__control:checked~label.sk-toggleable__label-arrow:before {content: \"▾\";}#sk-container-id-2 div.sk-estimator input.sk-toggleable__control:checked~label.sk-toggleable__label {background-color: #d4ebff;}#sk-container-id-2 div.sk-label input.sk-toggleable__control:checked~label.sk-toggleable__label {background-color: #d4ebff;}#sk-container-id-2 input.sk-hidden--visually {border: 0;clip: rect(1px 1px 1px 1px);clip: rect(1px, 1px, 1px, 1px);height: 1px;margin: -1px;overflow: hidden;padding: 0;position: absolute;width: 1px;}#sk-container-id-2 div.sk-estimator {font-family: monospace;background-color: #f0f8ff;border: 1px dotted black;border-radius: 0.25em;box-sizing: border-box;margin-bottom: 0.5em;}#sk-container-id-2 div.sk-estimator:hover {background-color: #d4ebff;}#sk-container-id-2 div.sk-parallel-item::after {content: \"\";width: 100%;border-bottom: 1px solid gray;flex-grow: 1;}#sk-container-id-2 div.sk-label:hover label.sk-toggleable__label {background-color: #d4ebff;}#sk-container-id-2 div.sk-serial::before {content: \"\";position: absolute;border-left: 1px solid gray;box-sizing: border-box;top: 0;bottom: 0;left: 50%;z-index: 0;}#sk-container-id-2 div.sk-serial {display: flex;flex-direction: column;align-items: center;background-color: white;padding-right: 0.2em;padding-left: 0.2em;position: relative;}#sk-container-id-2 div.sk-item {position: relative;z-index: 1;}#sk-container-id-2 div.sk-parallel {display: flex;align-items: stretch;justify-content: center;background-color: white;position: relative;}#sk-container-id-2 div.sk-item::before, #sk-container-id-2 div.sk-parallel-item::before {content: \"\";position: absolute;border-left: 1px solid gray;box-sizing: border-box;top: 0;bottom: 0;left: 50%;z-index: -1;}#sk-container-id-2 div.sk-parallel-item {display: flex;flex-direction: column;z-index: 1;position: relative;background-color: white;}#sk-container-id-2 div.sk-parallel-item:first-child::after {align-self: flex-end;width: 50%;}#sk-container-id-2 div.sk-parallel-item:last-child::after {align-self: flex-start;width: 50%;}#sk-container-id-2 div.sk-parallel-item:only-child::after {width: 0;}#sk-container-id-2 div.sk-dashed-wrapped {border: 1px dashed gray;margin: 0 0.4em 0.5em 0.4em;box-sizing: border-box;padding-bottom: 0.4em;background-color: white;}#sk-container-id-2 div.sk-label label {font-family: monospace;font-weight: bold;display: inline-block;line-height: 1.2em;}#sk-container-id-2 div.sk-label-container {text-align: center;}#sk-container-id-2 div.sk-container {/* jupyter's `normalize.less` sets `[hidden] { display: none; }` but bootstrap.min.css set `[hidden] { display: none !important; }` so we also need the `!important` here to be able to override the default hidden behavior on the sphinx rendered scikit-learn.org. See: https://github.com/scikit-learn/scikit-learn/issues/21755 */display: inline-block !important;position: relative;}#sk-container-id-2 div.sk-text-repr-fallback {display: none;}</style><div id=\"sk-container-id-2\" class=\"sk-top-container\"><div class=\"sk-text-repr-fallback\"><pre>KNeighborsClassifier()</pre><b>In a Jupyter environment, please rerun this cell to show the HTML representation or trust the notebook. <br />On GitHub, the HTML representation is unable to render, please try loading this page with nbviewer.org.</b></div><div class=\"sk-container\" hidden><div class=\"sk-item\"><div class=\"sk-estimator sk-toggleable\"><input class=\"sk-toggleable__control sk-hidden--visually\" id=\"sk-estimator-id-2\" type=\"checkbox\" checked><label for=\"sk-estimator-id-2\" class=\"sk-toggleable__label sk-toggleable__label-arrow\">KNeighborsClassifier</label><div class=\"sk-toggleable__content\"><pre>KNeighborsClassifier()</pre></div></div></div></div></div>"
      ],
      "text/plain": [
       "KNeighborsClassifier()"
      ]
     },
     "execution_count": 21,
     "metadata": {},
     "output_type": "execute_result"
    }
   ],
   "source": [
    "from sklearn.neighbors import KNeighborsClassifier\n",
    "from sklearn.metrics import accuracy_score\n",
    "\n",
    "\n",
    "knn = KNeighborsClassifier()\n",
    "knn.fit(X_train_classify, y_train_classify)"
   ]
  },
  {
   "cell_type": "code",
   "execution_count": 22,
   "metadata": {
    "colab": {
     "base_uri": "https://localhost:8080/"
    },
    "executionInfo": {
     "elapsed": 506,
     "status": "ok",
     "timestamp": 1677383757618,
     "user": {
      "displayName": "Abir Pal",
      "userId": "16652490121189377615"
     },
     "user_tz": -330
    },
    "id": "9VvTLELTa4vr",
    "outputId": "fd7b6637-edaf-4efa-f5cc-56c43df3ec12"
   },
   "outputs": [
    {
     "name": "stdout",
     "output_type": "stream",
     "text": [
      "[0 1 1 ... 0 0 0]\n"
     ]
    }
   ],
   "source": [
    "knn_predict = knn.predict(X_test_classify)\n",
    "print(knn_predict)"
   ]
  },
  {
   "cell_type": "code",
   "execution_count": 23,
   "metadata": {
    "colab": {
     "base_uri": "https://localhost:8080/"
    },
    "executionInfo": {
     "elapsed": 9,
     "status": "ok",
     "timestamp": 1677383757618,
     "user": {
      "displayName": "Abir Pal",
      "userId": "16652490121189377615"
     },
     "user_tz": -330
    },
    "id": "EICPp-ZJbOpB",
    "outputId": "df7357fd-aeef-45cc-f6cc-ed719cb29ae8"
   },
   "outputs": [
    {
     "name": "stdout",
     "output_type": "stream",
     "text": [
      "7530     0\n",
      "3571     1\n",
      "64474    1\n",
      "15859    0\n",
      "42032    0\n",
      "        ..\n",
      "36030    1\n",
      "60717    0\n",
      "37415    1\n",
      "65260    0\n",
      "14784    0\n",
      "Name: Label, Length: 13170, dtype: int32\n"
     ]
    }
   ],
   "source": [
    "print(y_test_classify)"
   ]
  },
  {
   "cell_type": "code",
   "execution_count": 24,
   "metadata": {
    "colab": {
     "base_uri": "https://localhost:8080/"
    },
    "executionInfo": {
     "elapsed": 6,
     "status": "ok",
     "timestamp": 1677383757619,
     "user": {
      "displayName": "Abir Pal",
      "userId": "16652490121189377615"
     },
     "user_tz": -330
    },
    "id": "akoMSUkfbUgI",
    "outputId": "640d668b-8a8f-421b-d761-331cc20bb4e4"
   },
   "outputs": [
    {
     "name": "stdout",
     "output_type": "stream",
     "text": [
      "Mean Squared Error -  0.1914958238420653\n",
      "Accuracy Percentage : 80.85041761579348 %\n"
     ]
    }
   ],
   "source": [
    "print(\"Mean Squared Error - \", mean_squared_error(y_test_classify , knn_predict))\n",
    "accuracy = accuracy_score(y_test_classify , knn_predict)\n",
    "\n",
    "print(\"Accuracy Percentage :\", accuracy*100, \"%\")"
   ]
  },
  {
   "cell_type": "markdown",
   "metadata": {
    "id": "sUffVXTKhU8u"
   },
   "source": [
    "# Random Forest\n",
    "\n",
    "The Random Forest algorithm is a type of ensemble learning technique that combines multiple decision trees to make a prediction. In sentiment analysis, each decision tree can be trained on a subset of the available training data, with each tree making an independent prediction on the sentiment of a given piece of text. The final prediction is then made by combining the predictions of all the decision trees in the forest."
   ]
  },
  {
   "cell_type": "code",
   "execution_count": 25,
   "metadata": {
    "colab": {
     "base_uri": "https://localhost:8080/"
    },
    "executionInfo": {
     "elapsed": 13470,
     "status": "ok",
     "timestamp": 1677383771086,
     "user": {
      "displayName": "Abir Pal",
      "userId": "16652490121189377615"
     },
     "user_tz": -330
    },
    "id": "6_K7nfM_fNjX",
    "outputId": "a3168643-bf89-4529-9774-8fb90dac9442"
   },
   "outputs": [
    {
     "data": {
      "text/html": [
       "<style>#sk-container-id-3 {color: black;background-color: white;}#sk-container-id-3 pre{padding: 0;}#sk-container-id-3 div.sk-toggleable {background-color: white;}#sk-container-id-3 label.sk-toggleable__label {cursor: pointer;display: block;width: 100%;margin-bottom: 0;padding: 0.3em;box-sizing: border-box;text-align: center;}#sk-container-id-3 label.sk-toggleable__label-arrow:before {content: \"▸\";float: left;margin-right: 0.25em;color: #696969;}#sk-container-id-3 label.sk-toggleable__label-arrow:hover:before {color: black;}#sk-container-id-3 div.sk-estimator:hover label.sk-toggleable__label-arrow:before {color: black;}#sk-container-id-3 div.sk-toggleable__content {max-height: 0;max-width: 0;overflow: hidden;text-align: left;background-color: #f0f8ff;}#sk-container-id-3 div.sk-toggleable__content pre {margin: 0.2em;color: black;border-radius: 0.25em;background-color: #f0f8ff;}#sk-container-id-3 input.sk-toggleable__control:checked~div.sk-toggleable__content {max-height: 200px;max-width: 100%;overflow: auto;}#sk-container-id-3 input.sk-toggleable__control:checked~label.sk-toggleable__label-arrow:before {content: \"▾\";}#sk-container-id-3 div.sk-estimator input.sk-toggleable__control:checked~label.sk-toggleable__label {background-color: #d4ebff;}#sk-container-id-3 div.sk-label input.sk-toggleable__control:checked~label.sk-toggleable__label {background-color: #d4ebff;}#sk-container-id-3 input.sk-hidden--visually {border: 0;clip: rect(1px 1px 1px 1px);clip: rect(1px, 1px, 1px, 1px);height: 1px;margin: -1px;overflow: hidden;padding: 0;position: absolute;width: 1px;}#sk-container-id-3 div.sk-estimator {font-family: monospace;background-color: #f0f8ff;border: 1px dotted black;border-radius: 0.25em;box-sizing: border-box;margin-bottom: 0.5em;}#sk-container-id-3 div.sk-estimator:hover {background-color: #d4ebff;}#sk-container-id-3 div.sk-parallel-item::after {content: \"\";width: 100%;border-bottom: 1px solid gray;flex-grow: 1;}#sk-container-id-3 div.sk-label:hover label.sk-toggleable__label {background-color: #d4ebff;}#sk-container-id-3 div.sk-serial::before {content: \"\";position: absolute;border-left: 1px solid gray;box-sizing: border-box;top: 0;bottom: 0;left: 50%;z-index: 0;}#sk-container-id-3 div.sk-serial {display: flex;flex-direction: column;align-items: center;background-color: white;padding-right: 0.2em;padding-left: 0.2em;position: relative;}#sk-container-id-3 div.sk-item {position: relative;z-index: 1;}#sk-container-id-3 div.sk-parallel {display: flex;align-items: stretch;justify-content: center;background-color: white;position: relative;}#sk-container-id-3 div.sk-item::before, #sk-container-id-3 div.sk-parallel-item::before {content: \"\";position: absolute;border-left: 1px solid gray;box-sizing: border-box;top: 0;bottom: 0;left: 50%;z-index: -1;}#sk-container-id-3 div.sk-parallel-item {display: flex;flex-direction: column;z-index: 1;position: relative;background-color: white;}#sk-container-id-3 div.sk-parallel-item:first-child::after {align-self: flex-end;width: 50%;}#sk-container-id-3 div.sk-parallel-item:last-child::after {align-self: flex-start;width: 50%;}#sk-container-id-3 div.sk-parallel-item:only-child::after {width: 0;}#sk-container-id-3 div.sk-dashed-wrapped {border: 1px dashed gray;margin: 0 0.4em 0.5em 0.4em;box-sizing: border-box;padding-bottom: 0.4em;background-color: white;}#sk-container-id-3 div.sk-label label {font-family: monospace;font-weight: bold;display: inline-block;line-height: 1.2em;}#sk-container-id-3 div.sk-label-container {text-align: center;}#sk-container-id-3 div.sk-container {/* jupyter's `normalize.less` sets `[hidden] { display: none; }` but bootstrap.min.css set `[hidden] { display: none !important; }` so we also need the `!important` here to be able to override the default hidden behavior on the sphinx rendered scikit-learn.org. See: https://github.com/scikit-learn/scikit-learn/issues/21755 */display: inline-block !important;position: relative;}#sk-container-id-3 div.sk-text-repr-fallback {display: none;}</style><div id=\"sk-container-id-3\" class=\"sk-top-container\"><div class=\"sk-text-repr-fallback\"><pre>RandomForestClassifier()</pre><b>In a Jupyter environment, please rerun this cell to show the HTML representation or trust the notebook. <br />On GitHub, the HTML representation is unable to render, please try loading this page with nbviewer.org.</b></div><div class=\"sk-container\" hidden><div class=\"sk-item\"><div class=\"sk-estimator sk-toggleable\"><input class=\"sk-toggleable__control sk-hidden--visually\" id=\"sk-estimator-id-3\" type=\"checkbox\" checked><label for=\"sk-estimator-id-3\" class=\"sk-toggleable__label sk-toggleable__label-arrow\">RandomForestClassifier</label><div class=\"sk-toggleable__content\"><pre>RandomForestClassifier()</pre></div></div></div></div></div>"
      ],
      "text/plain": [
       "RandomForestClassifier()"
      ]
     },
     "execution_count": 25,
     "metadata": {},
     "output_type": "execute_result"
    }
   ],
   "source": [
    "from sklearn.ensemble import RandomForestClassifier\n",
    "rfa = RandomForestClassifier(n_estimators=100)\n",
    "rfa.fit(X_train_classify, y_train_classify)"
   ]
  },
  {
   "cell_type": "code",
   "execution_count": 26,
   "metadata": {
    "colab": {
     "base_uri": "https://localhost:8080/"
    },
    "executionInfo": {
     "elapsed": 525,
     "status": "ok",
     "timestamp": 1677383771600,
     "user": {
      "displayName": "Abir Pal",
      "userId": "16652490121189377615"
     },
     "user_tz": -330
    },
    "id": "0oDfu6IXXTQT",
    "outputId": "c44a6183-46df-47f3-b9e5-5d763f0fae1b"
   },
   "outputs": [
    {
     "data": {
      "text/plain": [
       "array([0, 1, 1, ..., 0, 0, 0])"
      ]
     },
     "execution_count": 26,
     "metadata": {},
     "output_type": "execute_result"
    }
   ],
   "source": [
    "rfa_predicted = rfa.predict(X_test_classify)\n",
    "rfa_predicted"
   ]
  },
  {
   "cell_type": "code",
   "execution_count": 27,
   "metadata": {
    "colab": {
     "base_uri": "https://localhost:8080/"
    },
    "executionInfo": {
     "elapsed": 12,
     "status": "ok",
     "timestamp": 1677383771600,
     "user": {
      "displayName": "Abir Pal",
      "userId": "16652490121189377615"
     },
     "user_tz": -330
    },
    "id": "c2cH8AkaXi-R",
    "outputId": "06e2c4f2-0a96-45d5-dd2d-af11e10b71ca"
   },
   "outputs": [
    {
     "name": "stdout",
     "output_type": "stream",
     "text": [
      "7530     0\n",
      "3571     1\n",
      "64474    1\n",
      "15859    0\n",
      "42032    0\n",
      "        ..\n",
      "36030    1\n",
      "60717    0\n",
      "37415    1\n",
      "65260    0\n",
      "14784    0\n",
      "Name: Label, Length: 13170, dtype: int32\n"
     ]
    }
   ],
   "source": [
    "print(y_test_classify)"
   ]
  },
  {
   "cell_type": "code",
   "execution_count": 28,
   "metadata": {
    "colab": {
     "base_uri": "https://localhost:8080/"
    },
    "executionInfo": {
     "elapsed": 6,
     "status": "ok",
     "timestamp": 1677383771601,
     "user": {
      "displayName": "Abir Pal",
      "userId": "16652490121189377615"
     },
     "user_tz": -330
    },
    "id": "BjLME6f6COF8",
    "outputId": "a4eed885-88ee-4ca2-8f97-f48807fff792"
   },
   "outputs": [
    {
     "name": "stdout",
     "output_type": "stream",
     "text": [
      "Mean Squared Error -  0.17372817008352315\n",
      "Accuracy Percentage : 82.62718299164769 %\n"
     ]
    }
   ],
   "source": [
    "print(\"Mean Squared Error - \", mean_squared_error(y_test_classify , rfa_predicted))\n",
    "accuracy = accuracy_score(y_test_classify , rfa_predicted)\n",
    "\n",
    "print(\"Accuracy Percentage :\", accuracy*100, \"%\")"
   ]
  },
  {
   "cell_type": "markdown",
   "metadata": {
    "id": "h6HT7DgCYzoW"
   },
   "source": [
    "# Logistic Regression\n",
    "\n",
    "Logistic Regression is a popular machine learning algorithm used for classification problems, where the goal is to predict whether a given input belongs to which possible classes. It is a supervised learning algorithm that models the probability of the input belonging to each class using a logistic function.\n",
    "\n",
    "Here we are using Binary Classification since we have 2 Labels Positive and Negative"
   ]
  },
  {
   "cell_type": "code",
   "execution_count": 29,
   "metadata": {
    "colab": {
     "base_uri": "https://localhost:8080/"
    },
    "executionInfo": {
     "elapsed": 821,
     "status": "ok",
     "timestamp": 1677383772419,
     "user": {
      "displayName": "Abir Pal",
      "userId": "16652490121189377615"
     },
     "user_tz": -330
    },
    "id": "ewVjfiUTY_uu",
    "outputId": "ca757a14-bfd6-45f8-e70f-e628db2acb01"
   },
   "outputs": [
    {
     "data": {
      "text/html": [
       "<style>#sk-container-id-4 {color: black;background-color: white;}#sk-container-id-4 pre{padding: 0;}#sk-container-id-4 div.sk-toggleable {background-color: white;}#sk-container-id-4 label.sk-toggleable__label {cursor: pointer;display: block;width: 100%;margin-bottom: 0;padding: 0.3em;box-sizing: border-box;text-align: center;}#sk-container-id-4 label.sk-toggleable__label-arrow:before {content: \"▸\";float: left;margin-right: 0.25em;color: #696969;}#sk-container-id-4 label.sk-toggleable__label-arrow:hover:before {color: black;}#sk-container-id-4 div.sk-estimator:hover label.sk-toggleable__label-arrow:before {color: black;}#sk-container-id-4 div.sk-toggleable__content {max-height: 0;max-width: 0;overflow: hidden;text-align: left;background-color: #f0f8ff;}#sk-container-id-4 div.sk-toggleable__content pre {margin: 0.2em;color: black;border-radius: 0.25em;background-color: #f0f8ff;}#sk-container-id-4 input.sk-toggleable__control:checked~div.sk-toggleable__content {max-height: 200px;max-width: 100%;overflow: auto;}#sk-container-id-4 input.sk-toggleable__control:checked~label.sk-toggleable__label-arrow:before {content: \"▾\";}#sk-container-id-4 div.sk-estimator input.sk-toggleable__control:checked~label.sk-toggleable__label {background-color: #d4ebff;}#sk-container-id-4 div.sk-label input.sk-toggleable__control:checked~label.sk-toggleable__label {background-color: #d4ebff;}#sk-container-id-4 input.sk-hidden--visually {border: 0;clip: rect(1px 1px 1px 1px);clip: rect(1px, 1px, 1px, 1px);height: 1px;margin: -1px;overflow: hidden;padding: 0;position: absolute;width: 1px;}#sk-container-id-4 div.sk-estimator {font-family: monospace;background-color: #f0f8ff;border: 1px dotted black;border-radius: 0.25em;box-sizing: border-box;margin-bottom: 0.5em;}#sk-container-id-4 div.sk-estimator:hover {background-color: #d4ebff;}#sk-container-id-4 div.sk-parallel-item::after {content: \"\";width: 100%;border-bottom: 1px solid gray;flex-grow: 1;}#sk-container-id-4 div.sk-label:hover label.sk-toggleable__label {background-color: #d4ebff;}#sk-container-id-4 div.sk-serial::before {content: \"\";position: absolute;border-left: 1px solid gray;box-sizing: border-box;top: 0;bottom: 0;left: 50%;z-index: 0;}#sk-container-id-4 div.sk-serial {display: flex;flex-direction: column;align-items: center;background-color: white;padding-right: 0.2em;padding-left: 0.2em;position: relative;}#sk-container-id-4 div.sk-item {position: relative;z-index: 1;}#sk-container-id-4 div.sk-parallel {display: flex;align-items: stretch;justify-content: center;background-color: white;position: relative;}#sk-container-id-4 div.sk-item::before, #sk-container-id-4 div.sk-parallel-item::before {content: \"\";position: absolute;border-left: 1px solid gray;box-sizing: border-box;top: 0;bottom: 0;left: 50%;z-index: -1;}#sk-container-id-4 div.sk-parallel-item {display: flex;flex-direction: column;z-index: 1;position: relative;background-color: white;}#sk-container-id-4 div.sk-parallel-item:first-child::after {align-self: flex-end;width: 50%;}#sk-container-id-4 div.sk-parallel-item:last-child::after {align-self: flex-start;width: 50%;}#sk-container-id-4 div.sk-parallel-item:only-child::after {width: 0;}#sk-container-id-4 div.sk-dashed-wrapped {border: 1px dashed gray;margin: 0 0.4em 0.5em 0.4em;box-sizing: border-box;padding-bottom: 0.4em;background-color: white;}#sk-container-id-4 div.sk-label label {font-family: monospace;font-weight: bold;display: inline-block;line-height: 1.2em;}#sk-container-id-4 div.sk-label-container {text-align: center;}#sk-container-id-4 div.sk-container {/* jupyter's `normalize.less` sets `[hidden] { display: none; }` but bootstrap.min.css set `[hidden] { display: none !important; }` so we also need the `!important` here to be able to override the default hidden behavior on the sphinx rendered scikit-learn.org. See: https://github.com/scikit-learn/scikit-learn/issues/21755 */display: inline-block !important;position: relative;}#sk-container-id-4 div.sk-text-repr-fallback {display: none;}</style><div id=\"sk-container-id-4\" class=\"sk-top-container\"><div class=\"sk-text-repr-fallback\"><pre>LogisticRegression()</pre><b>In a Jupyter environment, please rerun this cell to show the HTML representation or trust the notebook. <br />On GitHub, the HTML representation is unable to render, please try loading this page with nbviewer.org.</b></div><div class=\"sk-container\" hidden><div class=\"sk-item\"><div class=\"sk-estimator sk-toggleable\"><input class=\"sk-toggleable__control sk-hidden--visually\" id=\"sk-estimator-id-4\" type=\"checkbox\" checked><label for=\"sk-estimator-id-4\" class=\"sk-toggleable__label sk-toggleable__label-arrow\">LogisticRegression</label><div class=\"sk-toggleable__content\"><pre>LogisticRegression()</pre></div></div></div></div></div>"
      ],
      "text/plain": [
       "LogisticRegression()"
      ]
     },
     "execution_count": 29,
     "metadata": {},
     "output_type": "execute_result"
    }
   ],
   "source": [
    "from sklearn.linear_model import LogisticRegression\n",
    "\n",
    "lr = LogisticRegression()\n",
    "lr.fit(X_train_classify, y_train_classify)"
   ]
  },
  {
   "cell_type": "code",
   "execution_count": 30,
   "metadata": {
    "colab": {
     "base_uri": "https://localhost:8080/"
    },
    "executionInfo": {
     "elapsed": 18,
     "status": "ok",
     "timestamp": 1677383772419,
     "user": {
      "displayName": "Abir Pal",
      "userId": "16652490121189377615"
     },
     "user_tz": -330
    },
    "id": "7MZj5TmYXuW6",
    "outputId": "84b7f6c0-7be2-4277-a835-9dd6fdd685f7"
   },
   "outputs": [
    {
     "name": "stdout",
     "output_type": "stream",
     "text": [
      "[0 1 1 ... 0 0 0]\n"
     ]
    }
   ],
   "source": [
    "lr_predict = lr.predict(X_test_classify)\n",
    "print(lr_predict)"
   ]
  },
  {
   "cell_type": "code",
   "execution_count": 31,
   "metadata": {
    "colab": {
     "base_uri": "https://localhost:8080/"
    },
    "executionInfo": {
     "elapsed": 14,
     "status": "ok",
     "timestamp": 1677383772420,
     "user": {
      "displayName": "Abir Pal",
      "userId": "16652490121189377615"
     },
     "user_tz": -330
    },
    "id": "v64ke1-GZlaQ",
    "outputId": "32a854ab-c386-4506-be45-b8cdd7bbc4e0"
   },
   "outputs": [
    {
     "name": "stdout",
     "output_type": "stream",
     "text": [
      "7530     0\n",
      "3571     1\n",
      "64474    1\n",
      "15859    0\n",
      "42032    0\n",
      "        ..\n",
      "36030    1\n",
      "60717    0\n",
      "37415    1\n",
      "65260    0\n",
      "14784    0\n",
      "Name: Label, Length: 13170, dtype: int32\n"
     ]
    }
   ],
   "source": [
    "print(y_test_classify)"
   ]
  },
  {
   "cell_type": "code",
   "execution_count": 32,
   "metadata": {
    "colab": {
     "base_uri": "https://localhost:8080/"
    },
    "executionInfo": {
     "elapsed": 10,
     "status": "ok",
     "timestamp": 1677383772420,
     "user": {
      "displayName": "Abir Pal",
      "userId": "16652490121189377615"
     },
     "user_tz": -330
    },
    "id": "W5OTjosfwhLu",
    "outputId": "46ee8972-6503-43da-d133-de24740b1781"
   },
   "outputs": [
    {
     "data": {
      "text/plain": [
       "array([[0.98156744, 0.01843256],\n",
       "       [0.23521679, 0.76478321],\n",
       "       [0.1391031 , 0.8608969 ],\n",
       "       ...,\n",
       "       [0.51605351, 0.48394649],\n",
       "       [0.96045303, 0.03954697],\n",
       "       [0.93487154, 0.06512846]])"
      ]
     },
     "execution_count": 32,
     "metadata": {},
     "output_type": "execute_result"
    }
   ],
   "source": [
    "# Predicting the probability that how much the tweet is Negative and Positive\n",
    "lr.predict_proba(X_test_classify)"
   ]
  },
  {
   "cell_type": "code",
   "execution_count": 33,
   "metadata": {
    "colab": {
     "base_uri": "https://localhost:8080/"
    },
    "executionInfo": {
     "elapsed": 7,
     "status": "ok",
     "timestamp": 1677383772420,
     "user": {
      "displayName": "Abir Pal",
      "userId": "16652490121189377615"
     },
     "user_tz": -330
    },
    "id": "YRW2mryZZsb1",
    "outputId": "f7665ae6-56ab-4bb8-e064-9317a01f982d"
   },
   "outputs": [
    {
     "name": "stdout",
     "output_type": "stream",
     "text": [
      "Mean Squared Error -  0.18359908883826878\n",
      "Accuracy Percentage : 81.64009111617312 %\n"
     ]
    }
   ],
   "source": [
    "print(\"Mean Squared Error - \", mean_squared_error(y_test_classify , lr_predict))\n",
    "accuracy = accuracy_score(y_test_classify , lr_predict)\n",
    "\n",
    "print(\"Accuracy Percentage :\", accuracy*100, \"%\")"
   ]
  },
  {
   "cell_type": "markdown",
   "metadata": {
    "id": "8fxPobcbbQWl"
   },
   "source": [
    "# Exporting the Model"
   ]
  },
  {
   "cell_type": "code",
   "execution_count": 34,
   "metadata": {
    "id": "9jW3tZTSj2dF"
   },
   "outputs": [],
   "source": [
    "import pickle\n",
    "models = {'lr' : lrm, 'knn' : knn, 'rf' : rfa , 'lr' : lr}"
   ]
  },
  {
   "cell_type": "code",
   "execution_count": 35,
   "metadata": {
    "id": "ybP3boI0j9WP"
   },
   "outputs": [],
   "source": [
    "with open('TwitterSentimentModel', 'wb') as file:\n",
    "  pickle.dump(models, file)"
   ]
  },
  {
   "cell_type": "markdown",
   "metadata": {
    "id": "Y7AidnAU1PZm"
   },
   "source": [
    "# Conclusion \n",
    "\n",
    "Now we can conclude that the accuracy scores and MSE by using the different algorithum are - \n",
    "\n",
    "\n",
    "---\n",
    "\n",
    "\n",
    "\n",
    "### **Regression**\n",
    "1.  Linear Regression - MSE - 0.00923519554216942\n",
    "\n",
    "### **Classification**\n",
    "1.  KNN - K-Nearest Neighbors - 81.71%\n",
    "2.  Random Forest - 82.83%\n",
    "3.  Logistic Regression - 82.98%"
   ]
  },
  {
   "cell_type": "code",
   "execution_count": null,
   "metadata": {
    "id": "W-UcFa951rnw"
   },
   "outputs": [],
   "source": []
  }
 ],
 "metadata": {
  "colab": {
   "collapsed_sections": [
    "ssP9PojWSnn6",
    "JCwBCWe79x8G",
    "w9gQl6JhZbVp"
   ],
   "provenance": []
  },
  "kernelspec": {
   "display_name": "sentimentanalysis",
   "language": "python",
   "name": "sentimentanalysis"
  },
  "language_info": {
   "codemirror_mode": {
    "name": "ipython",
    "version": 3
   },
   "file_extension": ".py",
   "mimetype": "text/x-python",
   "name": "python",
   "nbconvert_exporter": "python",
   "pygments_lexer": "ipython3",
   "version": "3.11.3"
  }
 },
 "nbformat": 4,
 "nbformat_minor": 4
}
